{
 "cells": [
  {
   "cell_type": "code",
   "execution_count": 2,
   "metadata": {},
   "outputs": [],
   "source": [
    "import pandas as pd\n",
    "import os\n",
    "import numpy as np"
   ]
  },
  {
   "cell_type": "code",
   "execution_count": 5,
   "metadata": {},
   "outputs": [
    {
     "data": {
      "text/plain": [
       "pandas.core.frame.DataFrame"
      ]
     },
     "execution_count": 5,
     "metadata": {},
     "output_type": "execute_result"
    }
   ],
   "source": [
    "pwd = os.getcwd()\n",
    "data_set = pd.read_csv(pwd + \"\\\\train.csv\")\n",
    "\n",
    "data_set = data_set.copy()\n",
    "\n",
    "data_set.head()\n",
    "type(data_set)\n"
   ]
  },
  {
   "cell_type": "markdown",
   "metadata": {},
   "source": [
    "### Counting number of times words repeat\n"
   ]
  },
  {
   "cell_type": "code",
   "execution_count": 33,
   "metadata": {},
   "outputs": [],
   "source": [
    "from collections import Counter\n",
    "import string\n",
    "\n",
    "def most_common_words(data, num_words, ignored_words = None):\n",
    "    \n",
    "    all_text = ' '.join(data)\n",
    "\n",
    "    # Remove common punctuation marks\n",
    "    translator = str.maketrans(\"\", \"\", string.punctuation)\n",
    "    all_text = all_text.translate(translator)\n",
    "\n",
    "    if ignored_words is None:\n",
    "        ignored_words = []\n",
    "\n",
    "    \n",
    "    single_words = all_text.split()\n",
    "\n",
    "    count_words = Counter(single_words)\n",
    "    if single_words in ignored_words:\n",
    "        single_words.remove(ignored_words)\n",
    "\n",
    "\n",
    "    most_common = count_words.most_common(num_words)\n",
    "\n",
    "    filtered_words = [word for word in most_common if word[0] not in ignored_words]\n",
    "\n",
    "    return filtered_words\n",
    "\n"
   ]
  },
  {
   "cell_type": "markdown",
   "metadata": {},
   "source": [
    "### Using the function to filter words ignoring common words"
   ]
  },
  {
   "cell_type": "code",
   "execution_count": 38,
   "metadata": {},
   "outputs": [
    {
     "data": {
      "text/plain": [
       "[('bitch', 7993),\n",
       " ('bitches', 2937),\n",
       " ('hoes', 2278),\n",
       " ('pussy', 2052),\n",
       " ('hoe', 1846),\n",
       " ('ass', 1534),\n",
       " ('shit', 1188),\n",
       " ('fuck', 1142),\n",
       " ('trash', 1116),\n",
       " ('nigga', 1098),\n",
       " ('niggas', 649),\n",
       " ('fucking', 569)]"
      ]
     },
     "execution_count": 38,
     "metadata": {},
     "output_type": "execute_result"
    }
   ],
   "source": [
    "\n",
    "num_words = 100\n",
    "data = data_set[\"tweet\"]\n",
    "ignored_words = [\"off\",\"yall\",\"good\",\"youre\",\"hate\",\"aint\",\"Im\",\"amp\",\"If\",\"yo\",\"The\",\"This\",\"then\",\"bad\",\"make\",\"think\",\"My\",\"need\",\"u\",\"these\",\"i\",\"amp\",\"You\",\"lol\",\"love\",\"if\",\"them\",\"when\",\"know\",\"want\",\"dont\",\"cant\", \"its\",\"hes\",\"shes\",\"them\",\"who\",\"say\",\"see\",\"look\",\"ya\",\"a\",\"RT\",\"the\",\"I\",\"to\",\"you\",\"and\",\"that\",\"my\",\"in\",\"is\",\"like\",\"of\",\"on\",\"be\",\"me\",\"for\",\"with\",\"it\",\"so\",\"your\",\"at\",\"have\",\"this\",\"not\",\"just\",\"but\",\"are\",\"was\",\"they\",\"he\",\"when\",\"what\",\"get\",\"we\",\"about\",\"all\",\"go\",\"up\",\"out\",\"do\",\"if\",\"day\",\"from\",\"will\",\"am\",\"how\",\"no\",\"one\",\"know\",\"today\",\"get\",\"now\",\"can\",\"as\",\"want\",\"got\",\"back\",\"going\",\"still\",\"too\",\"really\",\"time\",\"would\",\"or\",\"some\",\"more\",\"has\",\"an\",\"by\",\"her\",\"him\",\"his\",\"did\",\"were\",\"has\",\"their\",\"there\",\"than\",\"here\",\"she\",\"did\"]\n",
    "res = most_common_words(data, num_words, ignored_words)\n",
    "res"
   ]
  },
  {
   "cell_type": "markdown",
   "metadata": {},
   "source": [
    "## Plotting out the most common words\n"
   ]
  },
  {
   "cell_type": "code",
   "execution_count": 55,
   "metadata": {},
   "outputs": [
    {
     "data": {
      "image/png": "[encoded data removed]",
      "text/plain": [
       "<Figure size 864x576 with 1 Axes>"
      ]
     },
     "metadata": {
      "needs_background": "light"
     },
     "output_type": "display_data"
    }
   ],
   "source": [
    "import matplotlib.pyplot as plt\n",
    "\n",
    "word, count = zip(*res)\n",
    "\n",
    "bar_colors = ['blue', 'green', 'red', 'purple', 'orange', 'pink', 'brown', 'cyan', 'magenta', 'yellow', 'lime', 'teal', 'gray']\n",
    "\n",
    "plt.figure(figsize=(12, 8))\n",
    "plt.bar(word, count, color=bar_colors)\n",
    "plt.xticks(rotation=90)\n",
    "plt.xlabel(\"Words\", fontsize=12)\n",
    "plt.ylabel(\"Number of occurences\", fontsize=12)\n",
    "plt.title(\"Most common curse or hate words in tweets\", fontsize=14)\n",
    "plt.show()"
   ]
  }
 ],
 "metadata": {
  "kernelspec": {
   "display_name": "Python 3",
   "language": "python",
   "name": "python3"
  },
  "language_info": {
   "codemirror_mode": {
    "name": "ipython",
    "version": 3
   },
   "file_extension": ".py",
   "mimetype": "text/x-python",
   "name": "python",
   "nbconvert_exporter": "python",
   "pygments_lexer": "ipython3",
   "version": "3.9.7"
  }
 },
 "nbformat": 4,
 "nbformat_minor": 2
}
